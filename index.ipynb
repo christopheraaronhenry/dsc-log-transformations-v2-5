{
 "cells": [
  {
   "cell_type": "markdown",
   "metadata": {},
   "source": [
    "# Log Transformations\n",
    "\n",
    "## Introduction\n",
    "\n",
    "In this lesson, you will take a look at logarithmic transformations and when to apply them to features of a dataset. This will then become an effective technique you can use to improve the performance of linear regression models.\n",
    "\n",
    "## Objectives\n",
    "\n",
    "You will be able to:\n",
    "\n",
    "* Determine if a log transformation would be useful for a specific model or set of data\n",
    "* Apply log transformations to independent and dependent variables in linear regression\n",
    "* Interpret the coefficients of variables that have been transformed using a log transformation"
   ]
  },
  {
   "cell_type": "code",
   "execution_count": 2,
   "metadata": {},
   "outputs": [],
   "source": [
    "import math\n",
    "\n",
    "import matplotlib.pyplot as plt\n",
    "import numpy as np\n",
    "import pandas as pd\n",
    "import seaborn as sns\n",
    "import statsmodels.api as sm\n",
    "\n",
    "plt.style.use('seaborn-whitegrid')\n",
    "%matplotlib inline"
   ]
  },
  {
   "cell_type": "markdown",
   "metadata": {},
   "source": [
    "## Non-Linear Transformations\n",
    "\n",
    "Log transformations are one of several different techniques that fundamentally reshape the modeled relationship between the variables. Unlike linear transformations, we won't be able to \"go back\" to the initial or original linear coefficients, because what we are modeling is not the same relationship.\n",
    "\n",
    "The reason to apply this kind of transformation is that **you believe that the underlying relationship is not linear**. Then by applying these techniques, you may be able to model a linear relationship between the transformed variables, even though there wasn't a linear relationship between the raw, un-transformed variables."
   ]
  },
  {
   "cell_type": "markdown",
   "metadata": {},
   "source": [
    "## Logarithmic Functions\n",
    "\n",
    "While we typically use the shorthand of \"log\", the full name of the function we are applying is the ***logarithm***. Logarithmic functions are the inverse of exponential functions. The particular logarithm we typically use is the natural logarithm, which is the opposite of an exponential function of the mathematical constant $e$ (also known as Euler's number)."
   ]
  },
  {
   "cell_type": "code",
   "execution_count": 3,
   "metadata": {},
   "outputs": [
    {
     "data": {
      "text/plain": [
       "2.718281828459045"
      ]
     },
     "execution_count": 3,
     "metadata": {},
     "output_type": "execute_result"
    }
   ],
   "source": [
    "math.e"
   ]
  },
  {
   "cell_type": "markdown",
   "metadata": {},
   "source": [
    "The natural exponential function $e^x$ means taking each value of a variable and returning $e$ to the power of $x$. It looks something like this:"
   ]
  },
  {
   "cell_type": "code",
   "execution_count": 4,
   "metadata": {},
   "outputs": [],
   "source": [
    "# original x\n",
    "x = np.arange(0, 10, 0.5)\n",
    "# natural exponential function applied to x\n",
    "e_x = np.exp(x)"
   ]
  },
  {
   "cell_type": "code",
   "execution_count": 5,
   "metadata": {},
   "outputs": [
    {
     "data": {
      "image/png": "[encoded data removed]",
      "text/plain": [
       "<Figure size 504x216 with 2 Axes>"
      ]
     },
     "metadata": {
      "needs_background": "light"
     },
     "output_type": "display_data"
    }
   ],
   "source": [
    "fig, (ax1, ax2) = plt.subplots(ncols=2, figsize=(7,3))\n",
    "\n",
    "ax1.scatter(x, x)\n",
    "ax1.set_ylabel(\"$x$\")\n",
    "ax2.scatter(x, e_x)\n",
    "ax2.set_ylabel(\"$e^x$\")\n",
    "\n",
    "fig.tight_layout();"
   ]
  },
  {
   "cell_type": "markdown",
   "metadata": {},
   "source": [
    "Then the natural logarithm is the **inverse** of $e^x$:"
   ]
  },
  {
   "cell_type": "code",
   "execution_count": 7,
   "metadata": {},
   "outputs": [],
   "source": [
    "# natural log of natural exponent of x\n",
    "ln_e_x = np.log(e_x)"
   ]
  },
  {
   "cell_type": "code",
   "execution_count": 8,
   "metadata": {},
   "outputs": [
    {
     "data": {
      "image/png": "[encoded data removed]",
      "text/plain": [
       "<Figure size 720x216 with 3 Axes>"
      ]
     },
     "metadata": {
      "needs_background": "light"
     },
     "output_type": "display_data"
    }
   ],
   "source": [
    "fig, (ax1, ax2, ax3) = plt.subplots(ncols=3, figsize=(10,3))\n",
    "\n",
    "ax1.scatter(x, x)\n",
    "ax1.set_ylabel(\"$x$\")\n",
    "ax2.scatter(x, e_x)\n",
    "ax2.set_ylabel(\"$e^x$\")\n",
    "ax3.scatter(x, ln_e_x)\n",
    "ax3.set_ylabel(\"$log(e^x)$\")\n",
    "\n",
    "fig.tight_layout();"
   ]
  },
  {
   "cell_type": "markdown",
   "metadata": {},
   "source": [
    "The reason you would apply a log transformation is that you are trying to go from the middle graph (exponential relationship) to the graph on the right (linear relationship).\n",
    "\n",
    "However if you apply a log transformation when the original relationship wasn't exponential, then you will get something like this:"
   ]
  },
  {
   "cell_type": "code",
   "execution_count": 9,
   "metadata": {},
   "outputs": [],
   "source": [
    "# natural log of x (adding 1 because log(0) is undefined)\n",
    "ln_x = np.log(x + 1)"
   ]
  },
  {
   "cell_type": "code",
   "execution_count": 10,
   "metadata": {},
   "outputs": [
    {
     "data": {
      "image/png": "[encoded data removed]",
      "text/plain": [
       "<Figure size 504x216 with 2 Axes>"
      ]
     },
     "metadata": {
      "needs_background": "light"
     },
     "output_type": "display_data"
    }
   ],
   "source": [
    "fig, (ax1, ax2) = plt.subplots(ncols=2, figsize=(7, 3))\n",
    "\n",
    "ax1.scatter(x + 1, x + 1)\n",
    "ax1.set_ylabel(\"$x$\")\n",
    "ax2.scatter(x + 1, ln_x)\n",
    "ax2.set_ylabel(\"$log(x)$\")\n",
    "\n",
    "fig.tight_layout();"
   ]
  },
  {
   "cell_type": "markdown",
   "metadata": {},
   "source": [
    "If you see something like the plot on the right after you perform the log transformation, then a log transformation was probably not the appropriate approach."
   ]
  },
  {
   "cell_type": "markdown",
   "metadata": {},
   "source": [
    "## Baseline Auto MPG Model\n",
    "\n",
    "Let's look at a baseline model that uses the Auto MPG dataset:"
   ]
  },
  {
   "cell_type": "code",
   "execution_count": 11,
   "metadata": {},
   "outputs": [
    {
     "data": {
      "text/html": [
       "<div>\n",
       "<style scoped>\n",
       "    .dataframe tbody tr th:only-of-type {\n",
       "        vertical-align: middle;\n",
       "    }\n",
       "\n",
       "    .dataframe tbody tr th {\n",
       "        vertical-align: top;\n",
       "    }\n",
       "\n",
       "    .dataframe thead th {\n",
       "        text-align: right;\n",
       "    }\n",
       "</style>\n",
       "<table border=\"1\" class=\"dataframe\">\n",
       "  <thead>\n",
       "    <tr style=\"text-align: right;\">\n",
       "      <th></th>\n",
       "      <th>weight</th>\n",
       "      <th>model year</th>\n",
       "    </tr>\n",
       "  </thead>\n",
       "  <tbody>\n",
       "    <tr>\n",
       "      <th>0</th>\n",
       "      <td>3504</td>\n",
       "      <td>70</td>\n",
       "    </tr>\n",
       "    <tr>\n",
       "      <th>1</th>\n",
       "      <td>3693</td>\n",
       "      <td>70</td>\n",
       "    </tr>\n",
       "    <tr>\n",
       "      <th>2</th>\n",
       "      <td>3436</td>\n",
       "      <td>70</td>\n",
       "    </tr>\n",
       "    <tr>\n",
       "      <th>3</th>\n",
       "      <td>3433</td>\n",
       "      <td>70</td>\n",
       "    </tr>\n",
       "    <tr>\n",
       "      <th>4</th>\n",
       "      <td>3449</td>\n",
       "      <td>70</td>\n",
       "    </tr>\n",
       "    <tr>\n",
       "      <th>...</th>\n",
       "      <td>...</td>\n",
       "      <td>...</td>\n",
       "    </tr>\n",
       "    <tr>\n",
       "      <th>387</th>\n",
       "      <td>2790</td>\n",
       "      <td>82</td>\n",
       "    </tr>\n",
       "    <tr>\n",
       "      <th>388</th>\n",
       "      <td>2130</td>\n",
       "      <td>82</td>\n",
       "    </tr>\n",
       "    <tr>\n",
       "      <th>389</th>\n",
       "      <td>2295</td>\n",
       "      <td>82</td>\n",
       "    </tr>\n",
       "    <tr>\n",
       "      <th>390</th>\n",
       "      <td>2625</td>\n",
       "      <td>82</td>\n",
       "    </tr>\n",
       "    <tr>\n",
       "      <th>391</th>\n",
       "      <td>2720</td>\n",
       "      <td>82</td>\n",
       "    </tr>\n",
       "  </tbody>\n",
       "</table>\n",
       "<p>392 rows × 2 columns</p>\n",
       "</div>"
      ],
      "text/plain": [
       "     weight  model year\n",
       "0      3504          70\n",
       "1      3693          70\n",
       "2      3436          70\n",
       "3      3433          70\n",
       "4      3449          70\n",
       "..      ...         ...\n",
       "387    2790          82\n",
       "388    2130          82\n",
       "389    2295          82\n",
       "390    2625          82\n",
       "391    2720          82\n",
       "\n",
       "[392 rows x 2 columns]"
      ]
     },
     "execution_count": 11,
     "metadata": {},
     "output_type": "execute_result"
    }
   ],
   "source": [
    "data = pd.read_csv(\"auto-mpg.csv\")\n",
    "y_raw = data[\"mpg\"]\n",
    "X_raw = data[[\"weight\", \"model year\"]]\n",
    "X_raw"
   ]
  },
  {
   "cell_type": "code",
   "execution_count": 12,
   "metadata": {},
   "outputs": [
    {
     "name": "stdout",
     "output_type": "stream",
     "text": [
      "                            OLS Regression Results                            \n",
      "==============================================================================\n",
      "Dep. Variable:                    mpg   R-squared:                       0.808\n",
      "Model:                            OLS   Adj. R-squared:                  0.807\n",
      "Method:                 Least Squares   F-statistic:                     819.5\n",
      "Date:                Mon, 09 Oct 2023   Prob (F-statistic):          3.33e-140\n",
      "Time:                        14:23:42   Log-Likelihood:                -1037.6\n",
      "No. Observations:                 392   AIC:                             2081.\n",
      "Df Residuals:                     389   BIC:                             2093.\n",
      "Df Model:                           2                                         \n",
      "Covariance Type:            nonrobust                                         \n",
      "==============================================================================\n",
      "                 coef    std err          t      P>|t|      [0.025      0.975]\n",
      "------------------------------------------------------------------------------\n",
      "const        -14.3473      4.007     -3.581      0.000     -22.224      -6.470\n",
      "weight        -0.0066      0.000    -30.911      0.000      -0.007      -0.006\n",
      "model year     0.7573      0.049     15.308      0.000       0.660       0.855\n",
      "==============================================================================\n",
      "Omnibus:                       42.504   Durbin-Watson:                   1.230\n",
      "Prob(Omnibus):                  0.000   Jarque-Bera (JB):               71.997\n",
      "Skew:                           0.670   Prob(JB):                     2.32e-16\n",
      "Kurtosis:                       4.616   Cond. No.                     7.17e+04\n",
      "==============================================================================\n",
      "\n",
      "Notes:\n",
      "[1] Standard Errors assume that the covariance matrix of the errors is correctly specified.\n",
      "[2] The condition number is large, 7.17e+04. This might indicate that there are\n",
      "strong multicollinearity or other numerical problems.\n"
     ]
    }
   ],
   "source": [
    "baseline_model = sm.OLS(y_raw, sm.add_constant(X_raw))\n",
    "baseline_results = baseline_model.fit()\n",
    "print(baseline_results.summary())"
   ]
  },
  {
   "cell_type": "markdown",
   "metadata": {},
   "source": [
    "### Baseline Model Evaluation and Interpretation\n",
    "\n",
    "The baseline model is statistically significant overall, and explains about 81% of the variance in MPG.\n",
    "\n",
    "The coefficients for the intercept, `weight`, and `model year` are statistically significant.\n",
    "\n",
    "* For a car with 0 cylinders, weighing 0 lbs, and built in 1900, we would expect an MPG of about -14\n",
    "* For each increase of 1 lb in weight, we see an associated decrease of about 0.007 MPG\n",
    "* For each increase of 1 year in model year, we see an associated increase of about 0.76 in MPG\n",
    "\n",
    "Let's say we have some reason to believe that the relationship between weight and MPG is not linear. Can we address it using a log transformation?"
   ]
  },
  {
   "cell_type": "markdown",
   "metadata": {},
   "source": [
    "## Log Transforming a Feature\n",
    "\n",
    "Let's try building a model that uses the log of `weight` rather than the raw values."
   ]
  },
  {
   "cell_type": "code",
   "execution_count": 13,
   "metadata": {},
   "outputs": [
    {
     "data": {
      "text/html": [
       "<div>\n",
       "<style scoped>\n",
       "    .dataframe tbody tr th:only-of-type {\n",
       "        vertical-align: middle;\n",
       "    }\n",
       "\n",
       "    .dataframe tbody tr th {\n",
       "        vertical-align: top;\n",
       "    }\n",
       "\n",
       "    .dataframe thead th {\n",
       "        text-align: right;\n",
       "    }\n",
       "</style>\n",
       "<table border=\"1\" class=\"dataframe\">\n",
       "  <thead>\n",
       "    <tr style=\"text-align: right;\">\n",
       "      <th></th>\n",
       "      <th>weight</th>\n",
       "      <th>log(weight)</th>\n",
       "    </tr>\n",
       "  </thead>\n",
       "  <tbody>\n",
       "    <tr>\n",
       "      <th>0</th>\n",
       "      <td>3504</td>\n",
       "      <td>8.161660</td>\n",
       "    </tr>\n",
       "    <tr>\n",
       "      <th>1</th>\n",
       "      <td>3693</td>\n",
       "      <td>8.214194</td>\n",
       "    </tr>\n",
       "    <tr>\n",
       "      <th>2</th>\n",
       "      <td>3436</td>\n",
       "      <td>8.142063</td>\n",
       "    </tr>\n",
       "    <tr>\n",
       "      <th>3</th>\n",
       "      <td>3433</td>\n",
       "      <td>8.141190</td>\n",
       "    </tr>\n",
       "    <tr>\n",
       "      <th>4</th>\n",
       "      <td>3449</td>\n",
       "      <td>8.145840</td>\n",
       "    </tr>\n",
       "    <tr>\n",
       "      <th>...</th>\n",
       "      <td>...</td>\n",
       "      <td>...</td>\n",
       "    </tr>\n",
       "    <tr>\n",
       "      <th>387</th>\n",
       "      <td>2790</td>\n",
       "      <td>7.933797</td>\n",
       "    </tr>\n",
       "    <tr>\n",
       "      <th>388</th>\n",
       "      <td>2130</td>\n",
       "      <td>7.663877</td>\n",
       "    </tr>\n",
       "    <tr>\n",
       "      <th>389</th>\n",
       "      <td>2295</td>\n",
       "      <td>7.738488</td>\n",
       "    </tr>\n",
       "    <tr>\n",
       "      <th>390</th>\n",
       "      <td>2625</td>\n",
       "      <td>7.872836</td>\n",
       "    </tr>\n",
       "    <tr>\n",
       "      <th>391</th>\n",
       "      <td>2720</td>\n",
       "      <td>7.908387</td>\n",
       "    </tr>\n",
       "  </tbody>\n",
       "</table>\n",
       "<p>392 rows × 2 columns</p>\n",
       "</div>"
      ],
      "text/plain": [
       "     weight  log(weight)\n",
       "0      3504     8.161660\n",
       "1      3693     8.214194\n",
       "2      3436     8.142063\n",
       "3      3433     8.141190\n",
       "4      3449     8.145840\n",
       "..      ...          ...\n",
       "387    2790     7.933797\n",
       "388    2130     7.663877\n",
       "389    2295     7.738488\n",
       "390    2625     7.872836\n",
       "391    2720     7.908387\n",
       "\n",
       "[392 rows x 2 columns]"
      ]
     },
     "execution_count": 13,
     "metadata": {},
     "output_type": "execute_result"
    }
   ],
   "source": [
    "X_weight_log = X_raw.copy()\n",
    "\n",
    "X_weight_log[\"log(weight)\"] = np.log(X_weight_log[\"weight\"])\n",
    "\n",
    "# Visually inspect raw vs. transformed values\n",
    "X_weight_log[[\"weight\", \"log(weight)\"]]"
   ]
  },
  {
   "cell_type": "code",
   "execution_count": 14,
   "metadata": {},
   "outputs": [
    {
     "data": {
      "image/png": "[encoded data removed]",
      "text/plain": [
       "<Figure size 504x216 with 2 Axes>"
      ]
     },
     "metadata": {
      "needs_background": "light"
     },
     "output_type": "display_data"
    }
   ],
   "source": [
    "# Plot distributions of raw vs. transformed values\n",
    "# (scales are so different that it's not reasonable to share an x-axis)\n",
    "\n",
    "fig, (ax1, ax2) = plt.subplots(ncols=2, figsize=(7,3))\n",
    "ax1.hist(X_weight_log[\"weight\"])\n",
    "ax1.set_xlabel(\"weight\")\n",
    "ax2.hist(X_weight_log[\"log(weight)\"], color=\"orange\")\n",
    "ax2.set_xlabel(\"log(weight)\");"
   ]
  },
  {
   "cell_type": "markdown",
   "metadata": {},
   "source": [
    "Note that the distribution of the predictor is changed by applying the log transformation. Unlike a linear transformation that just \"moves\" or \"stretches\" the transformed variable, this transformed variable has a different skew as well."
   ]
  },
  {
   "cell_type": "code",
   "execution_count": 15,
   "metadata": {},
   "outputs": [
    {
     "data": {
      "text/html": [
       "<div>\n",
       "<style scoped>\n",
       "    .dataframe tbody tr th:only-of-type {\n",
       "        vertical-align: middle;\n",
       "    }\n",
       "\n",
       "    .dataframe tbody tr th {\n",
       "        vertical-align: top;\n",
       "    }\n",
       "\n",
       "    .dataframe thead th {\n",
       "        text-align: right;\n",
       "    }\n",
       "</style>\n",
       "<table border=\"1\" class=\"dataframe\">\n",
       "  <thead>\n",
       "    <tr style=\"text-align: right;\">\n",
       "      <th></th>\n",
       "      <th>log(weight)</th>\n",
       "      <th>model year</th>\n",
       "    </tr>\n",
       "  </thead>\n",
       "  <tbody>\n",
       "    <tr>\n",
       "      <th>0</th>\n",
       "      <td>8.161660</td>\n",
       "      <td>70</td>\n",
       "    </tr>\n",
       "    <tr>\n",
       "      <th>1</th>\n",
       "      <td>8.214194</td>\n",
       "      <td>70</td>\n",
       "    </tr>\n",
       "    <tr>\n",
       "      <th>2</th>\n",
       "      <td>8.142063</td>\n",
       "      <td>70</td>\n",
       "    </tr>\n",
       "    <tr>\n",
       "      <th>3</th>\n",
       "      <td>8.141190</td>\n",
       "      <td>70</td>\n",
       "    </tr>\n",
       "    <tr>\n",
       "      <th>4</th>\n",
       "      <td>8.145840</td>\n",
       "      <td>70</td>\n",
       "    </tr>\n",
       "    <tr>\n",
       "      <th>...</th>\n",
       "      <td>...</td>\n",
       "      <td>...</td>\n",
       "    </tr>\n",
       "    <tr>\n",
       "      <th>387</th>\n",
       "      <td>7.933797</td>\n",
       "      <td>82</td>\n",
       "    </tr>\n",
       "    <tr>\n",
       "      <th>388</th>\n",
       "      <td>7.663877</td>\n",
       "      <td>82</td>\n",
       "    </tr>\n",
       "    <tr>\n",
       "      <th>389</th>\n",
       "      <td>7.738488</td>\n",
       "      <td>82</td>\n",
       "    </tr>\n",
       "    <tr>\n",
       "      <th>390</th>\n",
       "      <td>7.872836</td>\n",
       "      <td>82</td>\n",
       "    </tr>\n",
       "    <tr>\n",
       "      <th>391</th>\n",
       "      <td>7.908387</td>\n",
       "      <td>82</td>\n",
       "    </tr>\n",
       "  </tbody>\n",
       "</table>\n",
       "<p>392 rows × 2 columns</p>\n",
       "</div>"
      ],
      "text/plain": [
       "     log(weight)  model year\n",
       "0       8.161660          70\n",
       "1       8.214194          70\n",
       "2       8.142063          70\n",
       "3       8.141190          70\n",
       "4       8.145840          70\n",
       "..           ...         ...\n",
       "387     7.933797          82\n",
       "388     7.663877          82\n",
       "389     7.738488          82\n",
       "390     7.872836          82\n",
       "391     7.908387          82\n",
       "\n",
       "[392 rows x 2 columns]"
      ]
     },
     "execution_count": 15,
     "metadata": {},
     "output_type": "execute_result"
    }
   ],
   "source": [
    "# Dropping original weight column\n",
    "X_weight_log.drop(\"weight\", axis=1, inplace=True)\n",
    "\n",
    "# Reordering columns for easier comparison\n",
    "X_weight_log = X_weight_log[[\"log(weight)\", \"model year\"]]\n",
    "\n",
    "X_weight_log"
   ]
  },
  {
   "cell_type": "markdown",
   "metadata": {},
   "source": [
    "## Model with a Log Transformed Feature\n",
    "\n",
    "Now let's build a model where `cylinders` and `model year` are still in their original units, while `weight` has been log transformed."
   ]
  },
  {
   "cell_type": "code",
   "execution_count": 16,
   "metadata": {},
   "outputs": [
    {
     "name": "stdout",
     "output_type": "stream",
     "text": [
      "\n",
      "Baseline model adjusted R-Squared:    0.8071940863723529\n",
      "log(weight) model adjusted R-Squared: 0.8364670750279435\n",
      "\n"
     ]
    }
   ],
   "source": [
    "weight_log_model = sm.OLS(y_raw, sm.add_constant(X_weight_log))\n",
    "weight_log_results = weight_log_model.fit()\n",
    "\n",
    "print(f\"\"\"\n",
    "Baseline model adjusted R-Squared:    {baseline_results.rsquared_adj}\n",
    "log(weight) model adjusted R-Squared: {weight_log_results.rsquared_adj}\n",
    "\"\"\")"
   ]
  },
  {
   "cell_type": "code",
   "execution_count": 17,
   "metadata": {},
   "outputs": [
    {
     "name": "stdout",
     "output_type": "stream",
     "text": [
      "                            OLS Regression Results                            \n",
      "==============================================================================\n",
      "Dep. Variable:                    mpg   R-squared:                       0.837\n",
      "Model:                            OLS   Adj. R-squared:                  0.836\n",
      "Method:                 Least Squares   F-statistic:                     1001.\n",
      "Date:                Mon, 09 Oct 2023   Prob (F-statistic):          4.10e-154\n",
      "Time:                        14:25:21   Log-Likelihood:                -1005.3\n",
      "No. Observations:                 392   AIC:                             2017.\n",
      "Df Residuals:                     389   BIC:                             2028.\n",
      "Df Model:                           2                                         \n",
      "Covariance Type:            nonrobust                                         \n",
      "===============================================================================\n",
      "                  coef    std err          t      P>|t|      [0.025      0.975]\n",
      "-------------------------------------------------------------------------------\n",
      "const         127.2362      6.587     19.316      0.000     114.285     140.187\n",
      "log(weight)   -20.4949      0.593    -34.585      0.000     -21.660     -19.330\n",
      "model year      0.7809      0.045     17.263      0.000       0.692       0.870\n",
      "==============================================================================\n",
      "Omnibus:                       57.816   Durbin-Watson:                   1.301\n",
      "Prob(Omnibus):                  0.000   Jarque-Bera (JB):              127.132\n",
      "Skew:                           0.773   Prob(JB):                     2.48e-28\n",
      "Kurtosis:                       5.323   Cond. No.                     3.17e+03\n",
      "==============================================================================\n",
      "\n",
      "Notes:\n",
      "[1] Standard Errors assume that the covariance matrix of the errors is correctly specified.\n",
      "[2] The condition number is large, 3.17e+03. This might indicate that there are\n",
      "strong multicollinearity or other numerical problems.\n"
     ]
    }
   ],
   "source": [
    "print(weight_log_results.summary())"
   ]
  },
  {
   "cell_type": "code",
   "execution_count": 18,
   "metadata": {},
   "outputs": [
    {
     "data": {
      "text/plain": [
       "const        -14.347253\n",
       "weight        -0.006632\n",
       "model year     0.757318\n",
       "dtype: float64"
      ]
     },
     "execution_count": 18,
     "metadata": {},
     "output_type": "execute_result"
    }
   ],
   "source": [
    "baseline_results.params"
   ]
  },
  {
   "cell_type": "code",
   "execution_count": 19,
   "metadata": {},
   "outputs": [
    {
     "data": {
      "text/plain": [
       "const          127.236211\n",
       "log(weight)    -20.494864\n",
       "model year       0.780894\n",
       "dtype: float64"
      ]
     },
     "execution_count": 19,
     "metadata": {},
     "output_type": "execute_result"
    }
   ],
   "source": [
    "weight_log_results.params"
   ]
  },
  {
   "cell_type": "markdown",
   "metadata": {},
   "source": [
    "Unlike when performing linear transformations on a feature, we have now built **an entirely different model** due to the log transformation. Only the `model year` coefficient looks approximately the same as in the baseline model, whereas everything else is different."
   ]
  },
  {
   "cell_type": "markdown",
   "metadata": {},
   "source": [
    "## Interpreting Coefficients for a Transformed Feature\n",
    "\n",
    "Overall it seems like this is a better model than the baseline model, since it has a higher adjusted R-Squared and aligns with our domain knowledge indicating that the relationship is not linear.\n",
    "\n",
    "So, if we wanted to use this new model instead of the baseline one, how can we interpret its coefficients?\n",
    "\n",
    "For the coefficients that were not transformed, their interpretation is the same. For example, the interpretation of `model year`'s coefficient is now:\n",
    "\n",
    "> For each increase of 1 year in model year, we see an associated increase of about 0.78 in MPG\n",
    "\n",
    "The log transformed coefficient is more complicated. It would be technically correct, but not particularly useful, to say this:\n",
    "\n",
    "> For each increase of 1 in the natural log of the weight, we see an associated decrease of about 20 in MPG\n",
    "\n",
    "But what does it mean to increase the natural log of the weight by 1?"
   ]
  },
  {
   "cell_type": "markdown",
   "metadata": {},
   "source": [
    "### Log Transformed Coefficients are Multiplicative\n",
    "\n",
    "If we add 1 to the natural log of the weight, that means we are _multiplying_ the underlying variable by $e$. So another technically correct explanation would be:\n",
    "\n",
    "> For each time we multiply the weight by about 2.72 ($e$), we see an associated decrease of about 20 in MPG\n",
    "\n",
    "That might be a bit easier to picture (a car that is almost 3x as large would get much worse gas mileage) but it's still tough to make sense of the underlying insight. So, what if we increase the natural log of the weight by something other than 1 unit?\n",
    "\n",
    "We usually use a 1-unit increase in the predictor for a linear relationship, but that is only because it happens to be the easiest way to interpret a linear coefficient. For a non-linear coefficient, we can choose another number.\n",
    "\n",
    "The number that we choose most often for log transformed coefficients is **1%** rather than 1 unit. If we use 1% as the increase in `weight`, then we also need to transform the associated coefficient:"
   ]
  },
  {
   "cell_type": "code",
   "execution_count": 18,
   "metadata": {},
   "outputs": [
    {
     "data": {
      "text/plain": [
       "-20.494864367076012"
      ]
     },
     "execution_count": 18,
     "metadata": {},
     "output_type": "execute_result"
    }
   ],
   "source": [
    "weight_log_results.params[\"log(weight)\"]"
   ]
  },
  {
   "cell_type": "code",
   "execution_count": 19,
   "metadata": {},
   "outputs": [
    {
     "data": {
      "text/plain": [
       "-0.2039306812432118"
      ]
     },
     "execution_count": 19,
     "metadata": {},
     "output_type": "execute_result"
    }
   ],
   "source": [
    "weight_log_results.params[\"log(weight)\"] * np.log(1.01)"
   ]
  },
  {
   "cell_type": "markdown",
   "metadata": {},
   "source": [
    "There is also a quicker way to do this, which takes advantage of a property of the natural logarithm where:\n",
    "\n",
    "$$ log(1.01) \\approx 0.01 $$"
   ]
  },
  {
   "cell_type": "code",
   "execution_count": 20,
   "metadata": {},
   "outputs": [
    {
     "data": {
      "text/plain": [
       "0.009950330853168092"
      ]
     },
     "execution_count": 20,
     "metadata": {},
     "output_type": "execute_result"
    }
   ],
   "source": [
    "np.log(1.01)"
   ]
  },
  {
   "cell_type": "markdown",
   "metadata": {},
   "source": [
    "So you can just look at the original coefficient and multiply it by 0.01, i.e. divide it by 100:"
   ]
  },
  {
   "cell_type": "code",
   "execution_count": 21,
   "metadata": {},
   "outputs": [
    {
     "data": {
      "text/plain": [
       "-0.20494864367076013"
      ]
     },
     "execution_count": 21,
     "metadata": {},
     "output_type": "execute_result"
    }
   ],
   "source": [
    "weight_log_results.params[\"log(weight)\"]  / 100"
   ]
  },
  {
   "cell_type": "markdown",
   "metadata": {},
   "source": [
    "There is a small difference in the result, but it's usually the part of the result that would be rounded off when reporting findings to stakeholders.\n",
    "\n",
    "So, **the conventional way to interpret a log-transformed coefficient is like this**:\n",
    "\n",
    "> For each increase of 1% in `<feature>`, we see an associated change of `<coefficient / 100>` in `<target>`\n",
    "\n",
    "For this particular model, that means:\n",
    "\n",
    "> For each increase of 1% in weight, we see an associated decrease of about 0.2 in MPG\n",
    "\n",
    "This 1% interpretation is popular because it's fairly easy to divide a value by 100 in your head rather than actually calculating the log value.\n",
    "\n",
    "As noted previously, this is based on an approximation, $log(1.01) \\approx 0.01$. If we wanted to use a percentage larger than 1%, we shouldn't simply scale the parameter by that percentage, since the approximation gets worse for larger values.\n",
    "\n",
    "Let's take 50% as an example. $log(1.5)$ would represent a 50% increase in a feature:"
   ]
  },
  {
   "cell_type": "code",
   "execution_count": 22,
   "metadata": {},
   "outputs": [
    {
     "data": {
      "text/plain": [
       "0.4054651081081644"
      ]
     },
     "execution_count": 22,
     "metadata": {},
     "output_type": "execute_result"
    }
   ],
   "source": [
    "np.log(1.5)"
   ]
  },
  {
   "cell_type": "markdown",
   "metadata": {},
   "source": [
    "You can see that this number is proportionally farther away from 0.5 than $log(1.01)$ was from 0.01.\n",
    "\n",
    "To describe this in terms of a 50% increase, we would want to multiply the coefficient by this value:"
   ]
  },
  {
   "cell_type": "code",
   "execution_count": 23,
   "metadata": {},
   "outputs": [
    {
     "data": {
      "text/plain": [
       "-8.309952396258641"
      ]
     },
     "execution_count": 23,
     "metadata": {},
     "output_type": "execute_result"
    }
   ],
   "source": [
    "weight_log_results.params[\"log(weight)\"] * np.log(1.5)"
   ]
  },
  {
   "cell_type": "markdown",
   "metadata": {},
   "source": [
    "The way to interpret this in words would be:\n",
    "\n",
    "> For each increase of 50% in weight, we see an associated decrease of about 8.3 MPG\n",
    "\n",
    "Note that this is pretty different from if we had just divided the coefficient (20.5) in half. This interpretation (an increase of a larger percentage) is less popular than increasing by 1% because multiplying a value by something like 0.405 is harder to do mentally than dividing by 100."
   ]
  },
  {
   "cell_type": "markdown",
   "metadata": {},
   "source": [
    "## Model with a Log Transformed Target\n",
    "\n",
    "Transforming the target ($y$) of a linear regression impacts not only the interpretation of the coefficients, but also the interpretation of the model overall.\n",
    "\n",
    "If you fit a model with a log-transformed target, the algorithm will be minimizing the errors in $log(y)$ units rather than $y$ units. In other words, minimizing the percentage/proportional/multiplicative error rather than the raw additive error.\n",
    "\n",
    "This also means that **the R-Squared (percentage of variance explained) and RMSE (average error) cannot be compared between models with raw $y$ and $log(y)$ targets**. Instead you will need to rely on other factors, including domain understanding, to determine whether transforming the target improves the model.\n",
    "\n",
    "Let's build a model where the target (MPG) is log-transformed, with the original (raw) predictors:"
   ]
  },
  {
   "cell_type": "code",
   "execution_count": 20,
   "metadata": {},
   "outputs": [
    {
     "data": {
      "text/plain": [
       "0      2.890372\n",
       "1      2.708050\n",
       "2      2.890372\n",
       "3      2.772589\n",
       "4      2.833213\n",
       "         ...   \n",
       "387    3.295837\n",
       "388    3.784190\n",
       "389    3.465736\n",
       "390    3.332205\n",
       "391    3.433987\n",
       "Name: log(mpg), Length: 392, dtype: float64"
      ]
     },
     "execution_count": 20,
     "metadata": {},
     "output_type": "execute_result"
    }
   ],
   "source": [
    "y_log = np.log(y_raw)\n",
    "y_log.name = \"log(mpg)\"\n",
    "y_log"
   ]
  },
  {
   "cell_type": "code",
   "execution_count": 21,
   "metadata": {},
   "outputs": [
    {
     "data": {
      "image/png": "[encoded data removed]",
      "text/plain": [
       "<Figure size 1080x216 with 1 Axes>"
      ]
     },
     "metadata": {
      "needs_background": "light"
     },
     "output_type": "display_data"
    }
   ],
   "source": [
    "# Plot distributions of raw vs. transformed values\n",
    "\n",
    "fig, ax = plt.subplots(figsize=(15,3))\n",
    "ax.hist(y_raw, label=\"MPG\")\n",
    "ax.hist(y_log, color=\"orange\", label=\"log(MPG)\")\n",
    "ax.legend();"
   ]
  },
  {
   "cell_type": "code",
   "execution_count": 22,
   "metadata": {},
   "outputs": [
    {
     "name": "stdout",
     "output_type": "stream",
     "text": [
      "                            OLS Regression Results                            \n",
      "==============================================================================\n",
      "Dep. Variable:               log(mpg)   R-squared:                       0.871\n",
      "Model:                            OLS   Adj. R-squared:                  0.870\n",
      "Method:                 Least Squares   F-statistic:                     1310.\n",
      "Date:                Mon, 09 Oct 2023   Prob (F-statistic):          1.59e-173\n",
      "Time:                        14:30:36   Log-Likelihood:                 268.08\n",
      "No. Observations:                 392   AIC:                            -530.2\n",
      "Df Residuals:                     389   BIC:                            -518.2\n",
      "Df Model:                           2                                         \n",
      "Covariance Type:            nonrobust                                         \n",
      "==============================================================================\n",
      "                 coef    std err          t      P>|t|      [0.025      0.975]\n",
      "------------------------------------------------------------------------------\n",
      "const          1.6397      0.143     11.442      0.000       1.358       1.921\n",
      "weight        -0.0003   7.67e-06    -40.212      0.000      -0.000      -0.000\n",
      "model year     0.0313      0.002     17.683      0.000       0.028       0.035\n",
      "==============================================================================\n",
      "Omnibus:                        7.706   Durbin-Watson:                   1.334\n",
      "Prob(Omnibus):                  0.021   Jarque-Bera (JB):               11.581\n",
      "Skew:                          -0.096   Prob(JB):                      0.00306\n",
      "Kurtosis:                       3.820   Cond. No.                     7.17e+04\n",
      "==============================================================================\n",
      "\n",
      "Notes:\n",
      "[1] Standard Errors assume that the covariance matrix of the errors is correctly specified.\n",
      "[2] The condition number is large, 7.17e+04. This might indicate that there are\n",
      "strong multicollinearity or other numerical problems.\n"
     ]
    }
   ],
   "source": [
    "y_log_model = sm.OLS(y_log, sm.add_constant(X_raw))\n",
    "y_log_results = y_log_model.fit()\n",
    "\n",
    "print(y_log_results.summary())"
   ]
  },
  {
   "cell_type": "markdown",
   "metadata": {},
   "source": [
    "## Interpreting Coefficients for a Transformed Target\n",
    "\n",
    "This model is statistically significant overall, and explains about 87% of the variance of the log-transformed MPG. This is not directly comparable to the R-Squared values for the previous models, but at a high level it tells us that the model fits are about the same whether or not the target has been transformed.\n",
    "\n",
    "Once again, we could interpret the coefficients in a way that is technically correct but not especially useful:\n",
    "\n",
    "> For each increase of 1 lb in weight, we see an associated decrease of about 0.0003 in the natural log of the MPG\n",
    "\n",
    "> For each increase of 1 year in model year, we see an associated increase of about 0.03 in the natural log of the MPG\n",
    "\n",
    "Again, changes to the natural log of a variable are not easy to grasp. Instead, we can frame the change in the MPG in terms of a multiplier. We'll focus on the `weight` coefficient specifically here but it's the same for all predictor coefficients.\n",
    "\n",
    "A decrease in $log(MPG)$ of 0.0003 is equivalent to multiplying MPG by $e^{0.0003}$:"
   ]
  },
  {
   "cell_type": "code",
   "execution_count": 23,
   "metadata": {},
   "outputs": [
    {
     "data": {
      "text/plain": [
       "-0.00030860096419965975"
      ]
     },
     "execution_count": 23,
     "metadata": {},
     "output_type": "execute_result"
    }
   ],
   "source": [
    "y_log_results.params[\"weight\"]"
   ]
  },
  {
   "cell_type": "code",
   "execution_count": 24,
   "metadata": {},
   "outputs": [
    {
     "data": {
      "text/plain": [
       "0.99969144664818"
      ]
     },
     "execution_count": 24,
     "metadata": {},
     "output_type": "execute_result"
    }
   ],
   "source": [
    "np.exp(y_log_results.params[\"weight\"])"
   ]
  },
  {
   "cell_type": "markdown",
   "metadata": {},
   "source": [
    "In other words, increasing `weight` by 1 causes MPG to become about 99.969% of its original value. Another way to frame this is in terms of reducing by a percentage:"
   ]
  },
  {
   "cell_type": "code",
   "execution_count": 25,
   "metadata": {},
   "outputs": [
    {
     "data": {
      "text/plain": [
       "-0.030855335182000676"
      ]
     },
     "execution_count": 25,
     "metadata": {},
     "output_type": "execute_result"
    }
   ],
   "source": [
    "- (1 - np.exp(y_log_results.params[\"weight\"])) * 100"
   ]
  },
  {
   "cell_type": "markdown",
   "metadata": {},
   "source": [
    "Notice that this is basically the same as if we had just multiplied the original coefficient by 100:"
   ]
  },
  {
   "cell_type": "code",
   "execution_count": 26,
   "metadata": {},
   "outputs": [
    {
     "data": {
      "text/plain": [
       "-0.030860096419965975"
      ]
     },
     "execution_count": 26,
     "metadata": {},
     "output_type": "execute_result"
    }
   ],
   "source": [
    "y_log_results.params[\"weight\"] * 100"
   ]
  },
  {
   "cell_type": "markdown",
   "metadata": {},
   "source": [
    "This is due to another approximation, that for small values of $\\beta$,\n",
    "\n",
    "$$ e^\\beta \\approx 1 + \\beta $$\n",
    "\n",
    "Thus **for small coefficients, the conventional way to interpret a log-transformed target is this:**\n",
    "\n",
    "> For each increase of 1 unit in `<feature>`, we see an associated change of `<coefficient * 100>`% in `<target>`\n",
    "\n",
    "For this particular model, that means:\n",
    "\n",
    "> For each increase of 1 lb in weight, we see an associated decrease of about 0.03% in MPG\n",
    "\n",
    "> For each increase of 1 year in model year, we see an associated increase of about 3.1% in MPG"
   ]
  },
  {
   "cell_type": "markdown",
   "metadata": {},
   "source": [
    "What if we had a model with much larger coefficients? For example, if the weight were in **tons** rather than **pounds**?\n",
    "\n",
    "We'll use the US ton, where 1 ton = 2000 lbs, and will apply a linear transformation to change the units."
   ]
  },
  {
   "cell_type": "code",
   "execution_count": 27,
   "metadata": {},
   "outputs": [
    {
     "data": {
      "text/html": [
       "<div>\n",
       "<style scoped>\n",
       "    .dataframe tbody tr th:only-of-type {\n",
       "        vertical-align: middle;\n",
       "    }\n",
       "\n",
       "    .dataframe tbody tr th {\n",
       "        vertical-align: top;\n",
       "    }\n",
       "\n",
       "    .dataframe thead th {\n",
       "        text-align: right;\n",
       "    }\n",
       "</style>\n",
       "<table border=\"1\" class=\"dataframe\">\n",
       "  <thead>\n",
       "    <tr style=\"text-align: right;\">\n",
       "      <th></th>\n",
       "      <th>weight</th>\n",
       "      <th>model year</th>\n",
       "    </tr>\n",
       "  </thead>\n",
       "  <tbody>\n",
       "    <tr>\n",
       "      <th>0</th>\n",
       "      <td>1.7520</td>\n",
       "      <td>70</td>\n",
       "    </tr>\n",
       "    <tr>\n",
       "      <th>1</th>\n",
       "      <td>1.8465</td>\n",
       "      <td>70</td>\n",
       "    </tr>\n",
       "    <tr>\n",
       "      <th>2</th>\n",
       "      <td>1.7180</td>\n",
       "      <td>70</td>\n",
       "    </tr>\n",
       "    <tr>\n",
       "      <th>3</th>\n",
       "      <td>1.7165</td>\n",
       "      <td>70</td>\n",
       "    </tr>\n",
       "    <tr>\n",
       "      <th>4</th>\n",
       "      <td>1.7245</td>\n",
       "      <td>70</td>\n",
       "    </tr>\n",
       "    <tr>\n",
       "      <th>...</th>\n",
       "      <td>...</td>\n",
       "      <td>...</td>\n",
       "    </tr>\n",
       "    <tr>\n",
       "      <th>387</th>\n",
       "      <td>1.3950</td>\n",
       "      <td>82</td>\n",
       "    </tr>\n",
       "    <tr>\n",
       "      <th>388</th>\n",
       "      <td>1.0650</td>\n",
       "      <td>82</td>\n",
       "    </tr>\n",
       "    <tr>\n",
       "      <th>389</th>\n",
       "      <td>1.1475</td>\n",
       "      <td>82</td>\n",
       "    </tr>\n",
       "    <tr>\n",
       "      <th>390</th>\n",
       "      <td>1.3125</td>\n",
       "      <td>82</td>\n",
       "    </tr>\n",
       "    <tr>\n",
       "      <th>391</th>\n",
       "      <td>1.3600</td>\n",
       "      <td>82</td>\n",
       "    </tr>\n",
       "  </tbody>\n",
       "</table>\n",
       "<p>392 rows × 2 columns</p>\n",
       "</div>"
      ],
      "text/plain": [
       "     weight  model year\n",
       "0    1.7520          70\n",
       "1    1.8465          70\n",
       "2    1.7180          70\n",
       "3    1.7165          70\n",
       "4    1.7245          70\n",
       "..      ...         ...\n",
       "387  1.3950          82\n",
       "388  1.0650          82\n",
       "389  1.1475          82\n",
       "390  1.3125          82\n",
       "391  1.3600          82\n",
       "\n",
       "[392 rows x 2 columns]"
      ]
     },
     "execution_count": 27,
     "metadata": {},
     "output_type": "execute_result"
    }
   ],
   "source": [
    "X_weight_tons = X_raw.copy()\n",
    "\n",
    "X_weight_tons[\"weight\"] = X_weight_tons[\"weight\"] / 2000\n",
    "X_weight_tons"
   ]
  },
  {
   "cell_type": "code",
   "execution_count": 28,
   "metadata": {},
   "outputs": [
    {
     "data": {
      "text/plain": [
       "const         1.639728\n",
       "weight       -0.617202\n",
       "model year    0.031291\n",
       "dtype: float64"
      ]
     },
     "execution_count": 28,
     "metadata": {},
     "output_type": "execute_result"
    }
   ],
   "source": [
    "weight_tons_model = sm.OLS(y_log, sm.add_constant(X_weight_tons))\n",
    "weight_tons_results = weight_tons_model.fit()\n",
    "\n",
    "weight_tons_results.params"
   ]
  },
  {
   "cell_type": "markdown",
   "metadata": {},
   "source": [
    "Since this is a **larger coefficient**, there is more of a difference between actually calculating the change vs. using the approximation:"
   ]
  },
  {
   "cell_type": "code",
   "execution_count": 29,
   "metadata": {},
   "outputs": [
    {
     "data": {
      "text/plain": [
       "-46.05482475477222"
      ]
     },
     "execution_count": 29,
     "metadata": {},
     "output_type": "execute_result"
    }
   ],
   "source": [
    "(np.exp(weight_tons_results.params[\"weight\"]) - 1) * 100"
   ]
  },
  {
   "cell_type": "code",
   "execution_count": 30,
   "metadata": {},
   "outputs": [
    {
     "data": {
      "text/plain": [
       "-61.72019283993188"
      ]
     },
     "execution_count": 30,
     "metadata": {},
     "output_type": "execute_result"
    }
   ],
   "source": [
    "weight_tons_results.params[\"weight\"] * 100"
   ]
  },
  {
   "cell_type": "markdown",
   "metadata": {},
   "source": [
    "Therefore instead of just multiplying the coefficient by 100, we'll use the value produced by the actual math:\n",
    "\n",
    "> For each increase of 1 ton in weight, we see an associated decrease of about 46% in MPG"
   ]
  },
  {
   "cell_type": "markdown",
   "metadata": {},
   "source": [
    "This approach runs into problems if you have **even larger coefficients** due to the nature of exponential growth. For example, if you had a coefficient of 1000, taking the exponent will actually exceed the amount of space allotted for a 64-bit floating point number:"
   ]
  },
  {
   "cell_type": "code",
   "execution_count": 31,
   "metadata": {},
   "outputs": [
    {
     "name": "stderr",
     "output_type": "stream",
     "text": [
      "<ipython-input-31-47a6eab891c2>:1: RuntimeWarning: overflow encountered in exp\n",
      "  np.exp(1000)\n"
     ]
    },
    {
     "data": {
      "text/plain": [
       "inf"
      ]
     },
     "execution_count": 31,
     "metadata": {},
     "output_type": "execute_result"
    }
   ],
   "source": [
    "np.exp(1000)"
   ]
  },
  {
   "cell_type": "markdown",
   "metadata": {},
   "source": [
    "(The term \"overflow\" means we have exceeded the limit, so the value gets represented as `inf`, i.e. infinity, even though it isn't actually infinitely large.)\n",
    "\n",
    "Fortunately you can usually use scaling to change the units of the coefficient and avoid this challenge while still producing an interpretable result. If the coefficient is too large, you can either scale the target units to be larger (e.g. a price in thousands of dollars rather than dollars) or scale the predictor units to be smaller (e.g. a weight in pounds rather than tons)."
   ]
  },
  {
   "cell_type": "markdown",
   "metadata": {},
   "source": [
    "## Model with a Log Transformed Predictor and Target\n",
    "\n",
    "You are not limited to log-transforming just the predictor or the target. You can also transform both!\n",
    "\n",
    "Here we'll use existing variables `y_log` (log-transformed MPG) and `X_weight_log` (log-transformed weight, raw model year)."
   ]
  },
  {
   "cell_type": "code",
   "execution_count": 32,
   "metadata": {},
   "outputs": [
    {
     "name": "stdout",
     "output_type": "stream",
     "text": [
      "                            OLS Regression Results                            \n",
      "==============================================================================\n",
      "Dep. Variable:               log(mpg)   R-squared:                       0.881\n",
      "Model:                            OLS   Adj. R-squared:                  0.880\n",
      "Method:                 Least Squares   F-statistic:                     1436.\n",
      "Date:                Mon, 09 Oct 2023   Prob (F-statistic):          2.38e-180\n",
      "Time:                        14:34:18   Log-Likelihood:                 283.91\n",
      "No. Observations:                 392   AIC:                            -561.8\n",
      "Df Residuals:                     389   BIC:                            -549.9\n",
      "Df Model:                           2                                         \n",
      "Covariance Type:            nonrobust                                         \n",
      "===============================================================================\n",
      "                  coef    std err          t      P>|t|      [0.025      0.975]\n",
      "-------------------------------------------------------------------------------\n",
      "const           8.0395      0.246     32.720      0.000       7.556       8.523\n",
      "log(weight)    -0.9341      0.022    -42.259      0.000      -0.978      -0.891\n",
      "model year      0.0328      0.002     19.450      0.000       0.029       0.036\n",
      "==============================================================================\n",
      "Omnibus:                        9.424   Durbin-Watson:                   1.396\n",
      "Prob(Omnibus):                  0.009   Jarque-Bera (JB):               16.664\n",
      "Skew:                           0.022   Prob(JB):                     0.000241\n",
      "Kurtosis:                       4.009   Cond. No.                     3.17e+03\n",
      "==============================================================================\n",
      "\n",
      "Notes:\n",
      "[1] Standard Errors assume that the covariance matrix of the errors is correctly specified.\n",
      "[2] The condition number is large, 3.17e+03. This might indicate that there are\n",
      "strong multicollinearity or other numerical problems.\n"
     ]
    }
   ],
   "source": [
    "log_model = sm.OLS(y_log, sm.add_constant(X_weight_log))\n",
    "log_results = log_model.fit()\n",
    "\n",
    "print(log_results.summary())"
   ]
  },
  {
   "cell_type": "markdown",
   "metadata": {},
   "source": [
    "We'll focus on interpreting the coefficient for `weight` here, since the coefficient for `model year` has the same interpretation as in the model where just MPG was log-transformed."
   ]
  },
  {
   "cell_type": "code",
   "execution_count": 33,
   "metadata": {},
   "outputs": [
    {
     "data": {
      "text/plain": [
       "-0.9340850470520534"
      ]
     },
     "execution_count": 33,
     "metadata": {},
     "output_type": "execute_result"
    }
   ],
   "source": [
    "log_results.params[\"log(weight)\"]"
   ]
  },
  {
   "cell_type": "markdown",
   "metadata": {},
   "source": [
    "One last time, we could interpret the coefficient like this and would be technically correct:\n",
    "\n",
    "> For each increase of 1 in the natural log of weight, there is a decrease of about 0.9 ($\\beta$) in the natural log of MPG\n",
    "\n",
    "Which also means:\n",
    "\n",
    "> For each time we multiply the weight by about 2.72 ($e$), we multiply MPG by about 0.4 ($e^{\\beta}$)\n",
    "\n",
    "But those numbers are still hard to grasp. So let's go back to setting the increase of the predictor to 1% rather than 1 unit.\n",
    "\n",
    "If `weight` increases by 1%, MPG is multiplied by $e^{log(1.01)\\beta}$, where $\\beta$ is the coefficient for weight."
   ]
  },
  {
   "cell_type": "code",
   "execution_count": 38,
   "metadata": {},
   "outputs": [
    {
     "data": {
      "text/plain": [
       "0.9907486046766623"
      ]
     },
     "execution_count": 38,
     "metadata": {},
     "output_type": "execute_result"
    }
   ],
   "source": [
    "np.exp(np.log(1.01) * log_results.params[\"log(weight)\"])"
   ]
  },
  {
   "cell_type": "markdown",
   "metadata": {},
   "source": [
    "We can subtract 1 and multiply by 100 to interpret as a percentage change:"
   ]
  },
  {
   "cell_type": "code",
   "execution_count": 39,
   "metadata": {},
   "outputs": [
    {
     "data": {
      "text/plain": [
       "-0.9251395323337741"
      ]
     },
     "execution_count": 39,
     "metadata": {},
     "output_type": "execute_result"
    }
   ],
   "source": [
    "(np.exp(np.log(1.01) * log_results.params[\"log(weight)\"]) - 1) * 100"
   ]
  },
  {
   "cell_type": "markdown",
   "metadata": {},
   "source": [
    "Again because of the approximations discussed earlier, this is essentially the same as the original coefficient:"
   ]
  },
  {
   "cell_type": "code",
   "execution_count": 40,
   "metadata": {},
   "outputs": [
    {
     "data": {
      "text/plain": [
       "-0.9340850470520536"
      ]
     },
     "execution_count": 40,
     "metadata": {},
     "output_type": "execute_result"
    }
   ],
   "source": [
    "log_results.params[\"log(weight)\"]"
   ]
  },
  {
   "cell_type": "markdown",
   "metadata": {},
   "source": [
    "In other words, regardless of which formula we use, we can conclude:\n",
    "\n",
    "> For each increase of 1% in weight, we see an associated decrease of about 0.9% in MPG\n",
    "\n",
    "Keep in mind that the approximation only works here because both the percentage and the coefficient are small enough. For larger values you would want to be sure to use the full formula."
   ]
  },
  {
   "cell_type": "markdown",
   "metadata": {},
   "source": [
    "## Takeaway \"Cheat Sheet\"\n",
    "\n",
    "For faster reference, we've summarized all of the different coefficient interpretations below. We'll define $y$ as the dependent variable, $x$ as (one of) the independent variable(s), and $\\beta$ as the coefficient for $x$ found in a linear regression."
   ]
  },
  {
   "cell_type": "markdown",
   "metadata": {},
   "source": [
    "### Raw Predictor vs. Raw Target\n",
    "\n",
    "This is just our regular linear regression. We are modeling the relationship as:\n",
    "\n",
    "$$ \\large{ y = \\beta x \\ldots } $$\n",
    "\n",
    "(The \"$\\ldots$\" is to indicate additional predictors, intercept, error, etc. that are not represented in this version of the formula.)\n",
    "\n",
    "To interpret $\\beta$ we would say:\n",
    "\n",
    "> For each increase of $\\large{1}$ unit in $\\large{x}$, we see an associated change of $\\large{\\beta}$ in $\\large{y}$"
   ]
  },
  {
   "cell_type": "markdown",
   "metadata": {},
   "source": [
    "### Log Transformed Predictor vs. Raw Target\n",
    "\n",
    "We are modeling the relationship as:\n",
    "\n",
    "$$ \\large{ y = \\beta* log(x) \\ldots } $$\n",
    "\n",
    "(Note that this $\\beta$ will be a different value than the $\\beta$ in the previous equation, since it is modeling a different relationship.)\n",
    "\n",
    "To interpret $\\beta$ we would say:\n",
    "\n",
    "> For each increase of $\\large{1\\%}$ in $\\large{x}$, we see an associated change of $\\large{\\beta / 100}$ in $\\large{y}$\n",
    "\n",
    "That interpretation relies on the approximation $log(1.01) \\approx 0.01$. For a percentage larger than 1%, we can also use this formula:\n",
    "\n",
    "> For each increase of $\\large{p\\%}$ in $\\large{x}$, we see an associated change of $\\large{\\beta * log((100 + p)/100)}$ in $\\large{y}$"
   ]
  },
  {
   "cell_type": "markdown",
   "metadata": {},
   "source": [
    "### Raw Predictor vs. Log Transformed Target\n",
    "\n",
    "We are modeling the relationship as:\n",
    "\n",
    "$$ \\large{ log(y) = \\beta x \\ldots } $$\n",
    "\n",
    "For **small** values of $\\beta$, we can interpret $\\beta$ as:\n",
    "\n",
    "> For each increase of $\\large{1}$ unit in $\\large{x}$, we see an associated change of $\\large{(\\beta * 100)}\\%$ in $\\large{y}$\n",
    "\n",
    "That interpretation relies on the approximation $e^\\beta \\approx 1 + \\beta$ for small values of $\\beta$. For an interpretation that will work for **larger** values of $\\beta$, we can use this formula:\n",
    "\n",
    "> For each increase of $\\large{1}$ unit in $\\large{x}$, we see an associated change of $\\large{((e^\\beta - 1) * 100)}\\%$ in $\\large{y}$\n",
    "\n",
    "For **very large** values of $\\beta$ you likely need to scale the predictor and/or target to create a smaller coefficient and avoid issues with exponential growth."
   ]
  },
  {
   "cell_type": "markdown",
   "metadata": {},
   "source": [
    "### Log Transformed Predictor vs. Log Transformed Target\n",
    "\n",
    "We are modeling the relationship as:\n",
    "\n",
    "$$ \\large{ log(y) = \\beta * log(x) \\ldots } $$\n",
    "\n",
    "For **small** values of $\\beta$ and a 1% increase, we can interpret $\\beta$ as:\n",
    "\n",
    "> For each increase of $\\large{1\\%}$ in $\\large{x}$, we see an associated change of $\\large{\\beta\\%}$ in $\\large{y}$\n",
    "\n",
    "For **larger** values of $\\beta$ and/or percentages larger than 1%, we can also use this formula:\n",
    "\n",
    "> For each increase of $\\large{p\\%}$ in $\\large{x}$, we see an associated change of $\\large{((e^{\\beta * log((100 + p)/100)} - 1) * 100)\\%}$ in $\\large{y}$"
   ]
  },
  {
   "cell_type": "markdown",
   "metadata": {},
   "source": [
    "## Summary\n",
    "\n",
    "In this lesson, you got a quick review of the math background for logarithmic functions, and saw how they can be used to transform both predictors and targets in linear regression models. Interpreting the resulting coefficients can be much more complicated than interpreting basic linear regression coefficients, so we walked through all of formulas you can use. Remember that log transformations are non-linear transformations, so they should only be used if you have a reason to believe that the underlying relationship is not linear."
   ]
  }
 ],
 "metadata": {
  "kernelspec": {
   "display_name": "Python (learn-env)",
   "language": "python",
   "name": "learn-env"
  },
  "language_info": {
   "codemirror_mode": {
    "name": "ipython",
    "version": 3
   },
   "file_extension": ".py",
   "mimetype": "text/x-python",
   "name": "python",
   "nbconvert_exporter": "python",
   "pygments_lexer": "ipython3",
   "version": "3.8.5"
  }
 },
 "nbformat": 4,
 "nbformat_minor": 2
}
